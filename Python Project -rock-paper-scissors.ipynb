{
 "cells": [
  {
   "cell_type": "code",
   "execution_count": 1,
   "metadata": {},
   "outputs": [
    {
     "name": "stdout",
     "output_type": "stream",
     "text": [
      "Lets play Rock - Paper - Scissors!\n",
      "Please enter Player 1 name THor\n",
      "Please enter Player 2 name Iron Man\n",
      "Hello Thor, Please enter your choice - Rock OR Paper OR Scissors rock\n",
      "Hello Iron Man, Please enter your choice - Rock OR Paper OR Scissors rock\n",
      " Tie! Try again\n",
      "Would you like to play again? Please enter 'No' to exit \n",
      " y\n",
      "Hello Thor, Please enter your choice - Rock OR Paper OR Scissors rock\n",
      "Hello Iron Man, Please enter your choice - Rock OR Paper OR Scissors paper\n",
      "Congratulations Iron Man wins!\n",
      "Would you like to play again? Please enter 'No' to exit \n",
      " y\n",
      "Hello Thor, Please enter your choice - Rock OR Paper OR Scissors scissors\n",
      "Hello Iron Man, Please enter your choice - Rock OR Paper OR Scissors paper\n",
      "Congratulations Thor wins!\n",
      "Would you like to play again? Please enter 'No' to exit \n",
      " no\n",
      "Thank you!\n"
     ]
    }
   ],
   "source": [
    "print (\"Lets play Rock - Paper - Scissors!\")\n",
    "Player1 = input(\"Please enter Player 1 name \")\n",
    "Player2 = input(\"Please enter Player 2 name \")\n",
    "choice = ['ROCK','PAPER','SCISSORS']\n",
    "loop=\"yes\"\n",
    "\n",
    "while (loop.title() != \"No\"):\n",
    "    Player1_choice = input(\"Hello \"+Player1.title()+\", Please enter your choice - Rock OR Paper OR Scissors \")\n",
    "    while (Player1_choice.upper() not in choice):\n",
    "        print(\"Please enter a valid option only - Rock/Paper/Scissors\")\n",
    "        Player1_choice = input(\"Hello \"+Player1.title()+\", Please enter your choice - Rock OR Paper OR Scissors \")\n",
    "    Player2_choice = input(\"Hello \"+Player2.title()+\", Please enter your choice - Rock OR Paper OR Scissors \")\n",
    "    while (Player2_choice.upper() not in choice):\n",
    "        print(\"Please enter a valid option only - Rock/Paper/Scissors\")\n",
    "        Player2_choice = input(\"Hello \"+Player2.title()+\", Please enter your choice - Rock OR Paper OR Scissors \")\n",
    "    if (Player1_choice.title() == Player2_choice.title()):\n",
    "        print(\" Tie! Try again\")\n",
    "    elif(Player1_choice.title() == \"Rock\" and Player2_choice.title() == \"Scissors\"):\n",
    "        print(\"Congratulations \"+Player1.title()+ \" wins!\")\n",
    "    elif(Player1_choice.title() == \"Paper\" and Player2_choice.title() == \"Rock\"):\n",
    "         print(\"Congratulations \"+Player1.title()+ \" wins!\")\n",
    "    elif(Player1_choice.title() == \"Scissors\" and Player2_choice.title() == \"Paper\"):\n",
    "        print(\"Congratulations \"+Player1.title()+ \" wins!\")\n",
    "    else:\n",
    "        print(\"Congratulations \"+Player2.title()+ \" wins!\")\n",
    "    loop=input(\"Would you like to play again? Please enter 'No' to exit \\n \")\n",
    "print(\"Thank you!\")"
   ]
  },
  {
   "cell_type": "code",
   "execution_count": null,
   "metadata": {},
   "outputs": [],
   "source": []
  },
  {
   "cell_type": "code",
   "execution_count": null,
   "metadata": {},
   "outputs": [],
   "source": []
  },
  {
   "cell_type": "code",
   "execution_count": null,
   "metadata": {},
   "outputs": [],
   "source": []
  }
 ],
 "metadata": {
  "kernelspec": {
   "display_name": "Python 3",
   "language": "python",
   "name": "python3"
  },
  "language_info": {
   "codemirror_mode": {
    "name": "ipython",
    "version": 3
   },
   "file_extension": ".py",
   "mimetype": "text/x-python",
   "name": "python",
   "nbconvert_exporter": "python",
   "pygments_lexer": "ipython3",
   "version": "3.8.5"
  }
 },
 "nbformat": 4,
 "nbformat_minor": 4
}
