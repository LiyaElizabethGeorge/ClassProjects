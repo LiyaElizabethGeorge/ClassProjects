{
 "cells": [
  {
   "cell_type": "code",
   "execution_count": 1,
   "metadata": {},
   "outputs": [
    {
     "name": "stdout",
     "output_type": "stream",
     "text": [
      "Please enter a whole number 11574\n",
      "11574 is an even number\n",
      "And 11574 is not a multiple of 4\n"
     ]
    }
   ],
   "source": [
    "Prompt = \"Please enter a whole number \"\n",
    "num = input(Prompt)\n",
    "if(num.isnumeric()):\n",
    "    number= int(num)\n",
    "    if (number % 2 ==0):\n",
    "        print (num+\" is an even number\")\n",
    "    else:\n",
    "        print (num+\" is an odd number\")\n",
    "    if (number % 4 ==0):\n",
    "        print (\"And \"+num+\" is a multiple of 4\")\n",
    "    else:\n",
    "        print (\"And \"+num+\" is not a multiple of 4\")\n",
    "else:\n",
    "    print(num+\" is not a whole number\")\n"
   ]
  },
  {
   "cell_type": "code",
   "execution_count": 4,
   "metadata": {},
   "outputs": [
    {
     "name": "stdout",
     "output_type": "stream",
     "text": [
      "Welcome to the program to check if a number divides evenly by another number!\n",
      "Please enter a whole number to check 128934865\n",
      "Please enter a whole number to divide by 5\n",
      "128934865 divides evenly into 5\n"
     ]
    }
   ],
   "source": [
    "print(\"Welcome to the program to check if a number divides evenly by another number!\")\n",
    "Prompt1 = \"Please enter a whole number to check \"\n",
    "Prompt2 = \"Please enter a whole number to divide by \"\n",
    "num1 = input(Prompt1)\n",
    "num2 = input(Prompt2)\n",
    "\n",
    "if(num1.isnumeric()):\n",
    "    if (num2.isnumeric()):\n",
    "        number1= int(num1)\n",
    "        number2 = int(num2)\n",
    "        if (number1 % number2 == 0):\n",
    "            print (num1+\" divides evenly into \"+num2)\n",
    "        else:\n",
    "            print (num1+\" cannot divide equally into \"+num2)\n",
    "    else:\n",
    "         print(num2+\" is not a whole number\")        \n",
    "else:\n",
    "    print(num1+\" is not a whole number\")"
   ]
  },
  {
   "cell_type": "code",
   "execution_count": null,
   "metadata": {},
   "outputs": [],
   "source": []
  }
 ],
 "metadata": {
  "kernelspec": {
   "display_name": "Python 3",
   "language": "python",
   "name": "python3"
  },
  "language_info": {
   "codemirror_mode": {
    "name": "ipython",
    "version": 3
   },
   "file_extension": ".py",
   "mimetype": "text/x-python",
   "name": "python",
   "nbconvert_exporter": "python",
   "pygments_lexer": "ipython3",
   "version": "3.8.5"
  }
 },
 "nbformat": 4,
 "nbformat_minor": 4
}
